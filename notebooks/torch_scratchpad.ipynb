{
 "cells": [
  {
   "cell_type": "code",
   "execution_count": 1,
   "id": "43c79e65-ed88-4d61-b0ca-720a01ac28c6",
   "metadata": {},
   "outputs": [],
   "source": [
    "import torch"
   ]
  },
  {
   "cell_type": "markdown",
   "id": "873d2734-0a78-42d0-a8d1-fb0d042b9723",
   "metadata": {},
   "source": [
    "See if we have accelerators available through CUDA"
   ]
  },
  {
   "cell_type": "code",
   "execution_count": 6,
   "id": "507d64c7-dec9-420a-b59c-1b164559c86f",
   "metadata": {},
   "outputs": [
    {
     "name": "stdout",
     "output_type": "stream",
     "text": [
      "We have a 1 GPUs available!\n"
     ]
    }
   ],
   "source": [
    "if torch.cuda.is_available():\n",
    "    print(f'We have a {torch.cuda.device_count()} GPUs available!')\n",
    "else:\n",
    "    print('Sorry, CPU only.')"
   ]
  },
  {
   "cell_type": "code",
   "execution_count": 3,
   "id": "287014f1-0e08-4cdf-a003-17a0badcf3e9",
   "metadata": {},
   "outputs": [
    {
     "data": {
      "text/plain": [
       "'cuda'"
      ]
     },
     "execution_count": 3,
     "metadata": {},
     "output_type": "execute_result"
    }
   ],
   "source": [
    "my_device = 'cuda' if torch.cuda.is_available() else 'cpu'\n",
    "my_device"
   ]
  },
  {
   "cell_type": "markdown",
   "id": "6c976af7-d277-4612-bd24-e2cb36e87dfc",
   "metadata": {},
   "source": [
    "Tensor addition on the GPU"
   ]
  },
  {
   "cell_type": "code",
   "execution_count": 4,
   "id": "b924c021-db5f-4510-b312-c7ece2ff25f6",
   "metadata": {},
   "outputs": [
    {
     "data": {
      "text/plain": [
       "tensor([4.], device='cuda:0')"
      ]
     },
     "execution_count": 4,
     "metadata": {},
     "output_type": "execute_result"
    }
   ],
   "source": [
    "input1 = torch.tensor([2.0], device=my_device)\n",
    "input2 = torch.tensor([2.0], device=my_device)\n",
    "input1+input2"
   ]
  },
  {
   "cell_type": "code",
   "execution_count": null,
   "id": "03d9a187-f7de-4316-8fdd-4d08bab4fd6b",
   "metadata": {},
   "outputs": [],
   "source": []
  }
 ],
 "metadata": {
  "kernelspec": {
   "display_name": "Python 3 (ipykernel)",
   "language": "python",
   "name": "python3"
  },
  "language_info": {
   "codemirror_mode": {
    "name": "ipython",
    "version": 3
   },
   "file_extension": ".py",
   "mimetype": "text/x-python",
   "name": "python",
   "nbconvert_exporter": "python",
   "pygments_lexer": "ipython3",
   "version": "3.12.3"
  }
 },
 "nbformat": 4,
 "nbformat_minor": 5
}
