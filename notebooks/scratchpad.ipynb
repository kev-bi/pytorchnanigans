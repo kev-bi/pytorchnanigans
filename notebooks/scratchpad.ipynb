{
 "cells": [
  {
   "cell_type": "code",
   "execution_count": 20,
   "id": "43c79e65-ed88-4d61-b0ca-720a01ac28c6",
   "metadata": {},
   "outputs": [],
   "source": [
    "import torch"
   ]
  },
  {
   "cell_type": "markdown",
   "id": "873d2734-0a78-42d0-a8d1-fb0d042b9723",
   "metadata": {},
   "source": [
    "See if we have cuda available (spoilers on my machine I do)."
   ]
  },
  {
   "cell_type": "code",
   "execution_count": 21,
   "id": "507d64c7-dec9-420a-b59c-1b164559c86f",
   "metadata": {},
   "outputs": [
    {
     "name": "stdout",
     "output_type": "stream",
     "text": [
      "Sorry, CPU only.\n"
     ]
    }
   ],
   "source": [
    "if torch.cuda.is_available():\n",
    "    print(f'We have a {torch.cuda.device_count()} GPUs available!')\n",
    "else:\n",
    "    print('Sorry, CPU only.')"
   ]
  },
  {
   "cell_type": "code",
   "execution_count": 22,
   "id": "287014f1-0e08-4cdf-a003-17a0badcf3e9",
   "metadata": {},
   "outputs": [
    {
     "data": {
      "text/plain": [
       "'cpu'"
      ]
     },
     "execution_count": 22,
     "metadata": {},
     "output_type": "execute_result"
    }
   ],
   "source": [
    "my_device = 'cuda' if torch.cuda.is_available() else 'cpu'\n",
    "my_device"
   ]
  },
  {
   "cell_type": "code",
   "execution_count": 23,
   "id": "b924c021-db5f-4510-b312-c7ece2ff25f6",
   "metadata": {},
   "outputs": [
    {
     "data": {
      "text/plain": [
       "tensor([4.])"
      ]
     },
     "execution_count": 23,
     "metadata": {},
     "output_type": "execute_result"
    }
   ],
   "source": [
    "input2 = torch.tensor([2.0], device=my_device)\n",
    "input3 = torch.tensor([2.0], device=my_device)\n",
    "input2+input3"
   ]
  },
  {
   "cell_type": "code",
   "execution_count": null,
   "id": "92f2a008-6551-46d1-a4a3-49c8b3a8b15c",
   "metadata": {},
   "outputs": [],
   "source": []
  }
 ],
 "metadata": {
  "kernelspec": {
   "display_name": "Python 3 (ipykernel)",
   "language": "python",
   "name": "python3"
  },
  "language_info": {
   "codemirror_mode": {
    "name": "ipython",
    "version": 3
   },
   "file_extension": ".py",
   "mimetype": "text/x-python",
   "name": "python",
   "nbconvert_exporter": "python",
   "pygments_lexer": "ipython3",
   "version": "3.12.8"
  }
 },
 "nbformat": 4,
 "nbformat_minor": 5
}
