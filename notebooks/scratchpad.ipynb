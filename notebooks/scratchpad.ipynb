{
 "cells": [
  {
   "cell_type": "code",
   "execution_count": 1,
   "id": "43c79e65-ed88-4d61-b0ca-720a01ac28c6",
   "metadata": {},
   "outputs": [],
   "source": [
    "import torch"
   ]
  },
  {
   "cell_type": "markdown",
   "id": "873d2734-0a78-42d0-a8d1-fb0d042b9723",
   "metadata": {},
   "source": [
    "See if we have cuda available (spoilers on my machine I do)."
   ]
  },
  {
   "cell_type": "code",
   "execution_count": 2,
   "id": "507d64c7-dec9-420a-b59c-1b164559c86f",
   "metadata": {},
   "outputs": [
    {
     "name": "stdout",
     "output_type": "stream",
     "text": [
      "Sorry, CPU only.\n"
     ]
    }
   ],
   "source": [
    "if torch.cuda.is_available():\n",
    "    print(f'We have a {torch.cuda.device_count()} GPUs available!')\n",
    "else:\n",
    "    print('Sorry, CPU only.')"
   ]
  },
  {
   "cell_type": "code",
   "execution_count": 3,
   "id": "287014f1-0e08-4cdf-a003-17a0badcf3e9",
   "metadata": {},
   "outputs": [
    {
     "data": {
      "text/plain": [
       "'cpu'"
      ]
     },
     "execution_count": 3,
     "metadata": {},
     "output_type": "execute_result"
    }
   ],
   "source": [
    "my_device = 'cuda' if torch.cuda.is_available() else 'cpu'\n",
    "my_device"
   ]
  },
  {
   "cell_type": "code",
   "execution_count": 4,
   "id": "b924c021-db5f-4510-b312-c7ece2ff25f6",
   "metadata": {},
   "outputs": [
    {
     "data": {
      "text/plain": [
       "tensor([4.])"
      ]
     },
     "execution_count": 4,
     "metadata": {},
     "output_type": "execute_result"
    }
   ],
   "source": [
    "input2 = torch.tensor([2.0], device=my_device)\n",
    "input3 = torch.tensor([2.0], device=my_device)\n",
    "input2+input3"
   ]
  },
  {
   "cell_type": "markdown",
   "id": "61e84500-98fc-462e-8a52-35e23d945cc0",
   "metadata": {},
   "source": [
    "Below is the [max graph python example](https://github.com/modularml/max/blob/main/tutorials/max-graph-python/src/max_ops/addition.py)."
   ]
  },
  {
   "cell_type": "code",
   "execution_count": 5,
   "id": "73f9c689-d303-4e16-8774-42b7559265d6",
   "metadata": {},
   "outputs": [],
   "source": [
    "import numpy as np\n",
    "from typing import Any\n",
    "from max import engine\n",
    "from max.dtype import DType\n",
    "from max.graph import Graph, TensorType, ops"
   ]
  },
  {
   "cell_type": "code",
   "execution_count": 6,
   "id": "a0c0a4f9-3eb4-4df8-8740-6a35593c5e69",
   "metadata": {},
   "outputs": [],
   "source": [
    "def add_tensors(a: np.ndarray, b: np.ndarray) -> dict[str, Any]:\n",
    "    # 1. Build the graph\n",
    "    input_type = TensorType(dtype=DType.float32, shape=(1,))\n",
    "    with Graph(\n",
    "        \"simple_add_graph\", input_types=(input_type, input_type)\n",
    "    ) as graph:\n",
    "        lhs, rhs = graph.inputs\n",
    "        out = ops.add(lhs, rhs)\n",
    "        graph.output(out)\n",
    "        print(\"final graph:\", graph)\n",
    "\n",
    "    # 2. Create an inference session\n",
    "    session = engine.InferenceSession()\n",
    "    model = session.load(graph)\n",
    "\n",
    "    for tensor in model.input_metadata:\n",
    "        print(\n",
    "            f\"name: {tensor.name}, shape: {tensor.shape}, dtype: {tensor.dtype}\"\n",
    "        )\n",
    "\n",
    "    # 3. Execute the graph\n",
    "    ret = model.execute(a, b)[0]\n",
    "    print(\"result:\", ret)\n",
    "    return ret"
   ]
  },
  {
   "cell_type": "code",
   "execution_count": 7,
   "id": "8f9de509-a003-4106-9e07-027839583e4b",
   "metadata": {},
   "outputs": [
    {
     "name": "stdout",
     "output_type": "stream",
     "text": [
      "final graph: mo.graph @simple_add_graph(%arg0: !mo.tensor<[1], f32>, %arg1: !mo.tensor<[1], f32>) -> !mo.tensor<[1], f32> attributes {argument_names = [\"input0\", \"input1\"], result_names = [\"output0\"]} {\n",
      "  %0 = mo.chain.create()\n",
      "  %1 = rmo.add(%arg0, %arg1) : (!mo.tensor<[1], f32>, !mo.tensor<[1], f32>) -> !mo.tensor<[1], f32>\n",
      "  mo.output %1 : !mo.tensor<[1], f32>\n",
      "}\n",
      "name: input0, shape: [1], dtype: DType.float32\n",
      "name: input1, shape: [1], dtype: DType.float32\n",
      "result: max.driver.Tensor(DType.float32, (1,))\n"
     ]
    }
   ],
   "source": [
    "input0 = np.array([1.0], dtype=np.float32)\n",
    "input1 = np.array([1.0], dtype=np.float32)\n",
    "output = add_tensors(input0, input1)"
   ]
  },
  {
   "cell_type": "code",
   "execution_count": 8,
   "id": "9571381d-959d-43c8-9bb3-a1bb8fcbfbd1",
   "metadata": {},
   "outputs": [
    {
     "data": {
      "text/plain": [
       "array([2.], dtype=float32)"
      ]
     },
     "execution_count": 8,
     "metadata": {},
     "output_type": "execute_result"
    }
   ],
   "source": [
    "output.to_numpy()"
   ]
  }
 ],
 "metadata": {
  "kernelspec": {
   "display_name": "Python 3 (ipykernel)",
   "language": "python",
   "name": "python3"
  },
  "language_info": {
   "codemirror_mode": {
    "name": "ipython",
    "version": 3
   },
   "file_extension": ".py",
   "mimetype": "text/x-python",
   "name": "python",
   "nbconvert_exporter": "python",
   "pygments_lexer": "ipython3",
   "version": "3.12.8"
  }
 },
 "nbformat": 4,
 "nbformat_minor": 5
}
